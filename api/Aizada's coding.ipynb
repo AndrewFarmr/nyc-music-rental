{
 "cells": [
  {
   "cell_type": "code",
   "execution_count": 4,
   "id": "eef9de21-7272-4a35-8efc-449a34659689",
   "metadata": {},
   "outputs": [
    {
     "name": "stdout",
     "output_type": "stream",
     "text": [
      "Welcome, to the Game\n"
     ]
    }
   ],
   "source": [
    "print (\"Welcome, to the Game\")\n"
   ]
  },
  {
   "cell_type": "code",
   "execution_count": 5,
   "id": "c8622d5d-8117-42f4-97af-a362d3ae3981",
   "metadata": {},
   "outputs": [],
   "source": [
    "import random \n",
    "lives = 3"
   ]
  },
  {
   "cell_type": "code",
   "execution_count": 6,
   "id": "0f4c7e48-fe6f-4278-a85d-313c67ed5226",
   "metadata": {},
   "outputs": [],
   "source": [
    "words = ['pizza', 'fairy', 'teeth', 'shirt', 'otter', 'plane']\n",
    "secret_word = random.choice(words) "
   ]
  },
  {
   "cell_type": "code",
   "execution_count": 7,
   "id": "f19bf6bd-ebc1-44f0-b393-9be26cf41b89",
   "metadata": {},
   "outputs": [],
   "source": [
    "clue = list('?????')"
   ]
  },
  {
   "cell_type": "code",
   "execution_count": 8,
   "id": "27da4bfc-6b6a-4aee-81ec-33f821dd1c23",
   "metadata": {},
   "outputs": [],
   "source": [
    "heart_symbol = u'\\u2764'"
   ]
  },
  {
   "cell_type": "code",
   "execution_count": 9,
   "id": "ad5e5423-b9c2-4fdb-b0dd-8cba9a8e7ec3",
   "metadata": {},
   "outputs": [],
   "source": [
    "guessed_word_correctly = False "
   ]
  },
  {
   "cell_type": "code",
   "execution_count": null,
   "id": "5411b5f9-d998-442d-9e30-26218a473274",
   "metadata": {},
   "outputs": [
    {
     "name": "stdout",
     "output_type": "stream",
     "text": [
      "['?', '?', '?', '?', '?']\n",
      "lives left: ❤❤❤\n"
     ]
    },
    {
     "name": "stdin",
     "output_type": "stream",
     "text": [
      "Guess a letter or the whole word:  pen\n"
     ]
    },
    {
     "name": "stdout",
     "output_type": "stream",
     "text": [
      "Incorrect. You lose a point\n",
      "You lost! The secret word was plane\n",
      "['?', '?', '?', '?', '?']\n",
      "lives left: ❤❤\n"
     ]
    },
    {
     "name": "stdin",
     "output_type": "stream",
     "text": [
      "Guess a letter or the whole word:  r\n"
     ]
    },
    {
     "name": "stdout",
     "output_type": "stream",
     "text": [
      "Incorrect. You lose a point\n",
      "You lost! The secret word was plane\n",
      "['?', '?', '?', '?', '?']\n",
      "lives left: ❤\n"
     ]
    }
   ],
   "source": [
    "import random\n",
    "lives = 3\n",
    "\n",
    "word = ['apple', 'pen', 'yellow', 'plane', 'project', 'management']\n",
    "secret_word = random.choice(words)\n",
    "\n",
    "clue = list('?????')\n",
    "heart_symbol = u'\\u2764'\n",
    "\n",
    "guessed_word_correctly = False\n",
    "\n",
    "def update_clue(guessed_letter, secret_word, clue):\n",
    "    index = 0\n",
    "    while index < len(secret_word):\n",
    "        if guessed_letter ==secret_word[index]:\n",
    "            clue[index] = guessed_letter\n",
    "        index = index + 1\n",
    "    \n",
    "while lives > 0:\n",
    "    print(clue)\n",
    "    print('lives left: ' + heart_symbol * lives)\n",
    "    guess = input('Guess a letter or the whole word: ')\n",
    "    \n",
    "    if guess == secret_word:\n",
    "        guessed_word_correctly = True \n",
    "        break \n",
    "        \n",
    "    if guess in secret_word:\n",
    "        update_clue(guess, secret_word, clue)\n",
    "    else:\n",
    "        print('Incorrect. You lose a point')\n",
    "        lives = lives - 1\n",
    "    if guessed_word_correctly:\n",
    "        print('You won! The secret word was '+ secret_word)\n",
    "    else:\n",
    "        print('You lost! The secret word was ' + secret_word)"
   ]
  },
  {
   "cell_type": "code",
   "execution_count": null,
   "id": "0ca0c050-fcc6-40f8-9119-c11425eee8e9",
   "metadata": {},
   "outputs": [],
   "source": []
  },
  {
   "cell_type": "code",
   "execution_count": null,
   "id": "fad65bd1-07a7-4d99-877b-afc49f7ebfd9",
   "metadata": {},
   "outputs": [],
   "source": []
  }
 ],
 "metadata": {
  "kernelspec": {
   "display_name": "Python 3.7 (Intel® oneAPI)",
   "language": "python",
   "name": "c009-intel_distribution_of_python_3_oneapi-beta05-python"
  },
  "language_info": {
   "codemirror_mode": {
    "name": "ipython",
    "version": 3
   },
   "file_extension": ".py",
   "mimetype": "text/x-python",
   "name": "python",
   "nbconvert_exporter": "python",
   "pygments_lexer": "ipython3",
   "version": "3.9.7"
  }
 },
 "nbformat": 4,
 "nbformat_minor": 5
}
